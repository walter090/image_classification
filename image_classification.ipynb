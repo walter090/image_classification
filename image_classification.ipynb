{
 "cells": [
  {
   "cell_type": "markdown",
   "metadata": {
    "collapsed": true,
    "deletable": true,
    "editable": true
   },
   "source": [
    "# Image Classification\n",
    "In this project, you'll classify images from the [CIFAR-10 dataset](https://www.cs.toronto.edu/~kriz/cifar.html).  The dataset consists of airplanes, dogs, cats, and other objects. You'll preprocess the images, then train a convolutional neural network on all the samples. The images need to be normalized and the labels need to be one-hot encoded.  You'll get to apply what you learned and build a convolutional, max pooling, dropout, and fully connected layers.  At the end, you'll get to see your neural network's predictions on the sample images.\n",
    "## Get the Data\n",
    "Run the following cell to download the [CIFAR-10 dataset for python](https://www.cs.toronto.edu/~kriz/cifar-10-python.tar.gz)."
   ]
  },
  {
   "cell_type": "code",
   "execution_count": 3,
   "metadata": {
    "collapsed": false,
    "deletable": true,
    "editable": true
   },
   "outputs": [
    {
     "name": "stderr",
     "output_type": "stream",
     "text": [
      "CIFAR-10 Dataset: 171MB [00:33, 5.11MB/s]                            \n"
     ]
    },
    {
     "name": "stdout",
     "output_type": "stream",
     "text": [
      "All files found!\n"
     ]
    }
   ],
   "source": [
    "\"\"\"\n",
    "DON'T MODIFY ANYTHING IN THIS CELL THAT IS BELOW THIS LINE\n",
    "\"\"\"\n",
    "from urllib.request import urlretrieve\n",
    "from os.path import isfile, isdir\n",
    "from tqdm import tqdm\n",
    "import problem_unittests as tests\n",
    "import tarfile\n",
    "\n",
    "cifar10_dataset_folder_path = 'cifar-10-batches-py'\n",
    "\n",
    "\n",
    "class DLProgress(tqdm):\n",
    "    last_block = 0\n",
    "\n",
    "    def hook(self, block_num=1, block_size=1, total_size=None):\n",
    "        self.total = total_size\n",
    "        self.update((block_num - self.last_block) * block_size)\n",
    "        self.last_block = block_num\n",
    "\n",
    "\n",
    "if not isfile('cifar-10-python.tar.gz'):\n",
    "    with DLProgress(unit='B', unit_scale=True,\n",
    "                    miniters=1, desc='CIFAR-10 Dataset')as pbar:\n",
    "        urlretrieve(\n",
    "            'https://www.cs.toronto.edu/~kriz/cifar-10-python.tar.gz',\n",
    "            'cifar-10-python.tar.gz',\n",
    "            pbar.hook)\n",
    "\n",
    "if not isdir(cifar10_dataset_folder_path):\n",
    "    with tarfile.open('cifar-10-python.tar.gz') as tar:\n",
    "        tar.extractall()\n",
    "        tar.close()\n",
    "\n",
    "tests.test_folder_path(cifar10_dataset_folder_path)"
   ]
  },
  {
   "cell_type": "markdown",
   "metadata": {
    "deletable": true,
    "editable": true
   },
   "source": [
    "## Explore the Data\n",
    "The dataset is broken into batches to prevent your machine from running out of memory.  The CIFAR-10 dataset consists of 5 batches, named `data_batch_1`, `data_batch_2`, etc.. Each batch contains the labels and images that are one of the following:\n",
    "* airplane\n",
    "* automobile\n",
    "* bird\n",
    "* cat\n",
    "* deer\n",
    "* dog\n",
    "* frog\n",
    "* horse\n",
    "* ship\n",
    "* truck\n",
    "\n",
    "Understanding a dataset is part of making predictions on the data.  Play around with the code cell below by changing the `batch_id` and `sample_id`. The `batch_id` is the id for a batch (1-5). The `sample_id` is the id for a image and label pair in the batch.\n",
    "\n",
    "Ask yourself \"What are all possible labels?\", \"What is the range of values for the image data?\", \"Are the labels in order or random?\".  Answers to questions like these will help you preprocess the data and end up with better predictions."
   ]
  },
  {
   "cell_type": "code",
   "execution_count": 4,
   "metadata": {
    "collapsed": false,
    "deletable": true,
    "editable": true
   },
   "outputs": [
    {
     "name": "stdout",
     "output_type": "stream",
     "text": [
      "\n",
      "Stats of batch 1:\n",
      "Samples: 10000\n",
      "Label Counts: {0: 1005, 1: 974, 2: 1032, 3: 1016, 4: 999, 5: 937, 6: 1030, 7: 1001, 8: 1025, 9: 981}\n",
      "First 20 Labels: [6, 9, 9, 4, 1, 1, 2, 7, 8, 3, 4, 7, 7, 2, 9, 9, 9, 3, 2, 6]\n",
      "\n",
      "Example of Image 4:\n",
      "Image - Min Value: 0 Max Value: 254\n",
      "Image - Shape: (32, 32, 3)\n",
      "Label - Label Id: 1 Name: automobile\n"
     ]
    },
    {
     "data": {
      "image/png": "[encoded data removed]",
      "text/plain": [
       "<matplotlib.figure.Figure at 0x7fb1b41e8550>"
      ]
     },
     "metadata": {
      "image/png": {
       "height": 250,
       "width": 253
      }
     },
     "output_type": "display_data"
    }
   ],
   "source": [
    "import helper\n",
    "import numpy as np\n",
    "\n",
    "% matplotlib inline\n",
    "% config InlineBackend.figure_format = 'retina'\n",
    "\n",
    "# Explore the dataset\n",
    "batch_id = 1\n",
    "sample_id = 4\n",
    "helper.display_stats(cifar10_dataset_folder_path, batch_id, sample_id)"
   ]
  },
  {
   "cell_type": "markdown",
   "metadata": {
    "deletable": true,
    "editable": true
   },
   "source": [
    "## Implement Preprocess Functions\n",
    "### Normalize\n",
    "In the cell below, implement the `normalize` function to take in image data, `x`, and return it as a normalized Numpy array. The values should be in the range of 0 to 1, inclusive.  The return object should be the same shape as `x`."
   ]
  },
  {
   "cell_type": "code",
   "execution_count": 5,
   "metadata": {
    "collapsed": false,
    "deletable": true,
    "editable": true
   },
   "outputs": [
    {
     "name": "stderr",
     "output_type": "stream",
     "text": [
      "/home/snowman/anaconda3/envs/server_35/lib/python3.5/site-packages/sklearn/utils/validation.py:429: DataConversionWarning: Data with input dtype int64 was converted to float64 by MinMaxScaler.\n",
      "  warnings.warn(msg, _DataConversionWarning)\n"
     ]
    },
    {
     "name": "stdout",
     "output_type": "stream",
     "text": [
      "Tests Passed\n"
     ]
    }
   ],
   "source": [
    "from sklearn import preprocessing\n",
    "\n",
    "\n",
    "def normalize(x):\n",
    "    \"\"\"\n",
    "    Normalize a list of sample image data in the range of 0 to 1\n",
    "    :param x: List of image data. The image shape is (32, 32, 3)\n",
    "    :return: Numpy array of normalize data\n",
    "    \"\"\"\n",
    "    # TODO: Implement Function\n",
    "    images = []\n",
    "    scaler = preprocessing.MinMaxScaler(copy=False)\n",
    "    \"\"\"\n",
    "    fit the normalizer on the entire set of images to find\n",
    "    the global min and max\n",
    "    \"\"\"\n",
    "    one_d = x.flatten().reshape(-1, 1)\n",
    "    scaler.fit(one_d)\n",
    "    \n",
    "    for i in range(len(x)):\n",
    "        images.append([])\n",
    "        for j in range(len(x[i])):\n",
    "            images[i].append([])\n",
    "            images[i][j] = scaler.transform(x[i][j])\n",
    "    \n",
    "    return np.array(images)\n",
    "\"\"\"\n",
    "DON'T MODIFY ANYTHING IN THIS CELL THAT IS BELOW THIS LINE\n",
    "\"\"\"\n",
    "tests.test_normalize(normalize)"
   ]
  },
  {
   "cell_type": "markdown",
   "metadata": {
    "deletable": true,
    "editable": true
   },
   "source": [
    "### One-hot encode\n",
    "Just like the previous code cell, you'll be implementing a function for preprocessing.  This time, you'll implement the `one_hot_encode` function. The input, `x`, are a list of labels.  Implement the function to return the list of labels as One-Hot encoded Numpy array.  The possible values for labels are 0 to 9. The one-hot encoding function should return the same encoding for each value between each call to `one_hot_encode`.  Make sure to save the map of encodings outside the function.\n",
    "\n",
    "**Hint:**\n",
    "\n",
    "Look into LabelBinarizer in the preprocessing module of sklearn."
   ]
  },
  {
   "cell_type": "code",
   "execution_count": 6,
   "metadata": {
    "collapsed": false,
    "deletable": true,
    "editable": true
   },
   "outputs": [
    {
     "name": "stdout",
     "output_type": "stream",
     "text": [
      "Tests Passed\n"
     ]
    }
   ],
   "source": [
    "labels = range(0, 10)\n",
    "encoding = preprocessing.LabelBinarizer().fit_transform(labels)\n",
    "\n",
    "\n",
    "def one_hot_encode(x):\n",
    "    \"\"\"\n",
    "    One hot encode a list of sample labels. Return a one-hot encoded vector for\n",
    "    each label.\n",
    "    :param x List of sample Labels\n",
    "    :return Numpy array of one-hot encoded labels\n",
    "    \"\"\"\n",
    "    one_hot_x = []\n",
    "    for label in x:\n",
    "        one_hot_x.append(encoding[label])\n",
    "    \n",
    "    return np.array(one_hot_x)\n",
    "\n",
    "\"\"\"\n",
    "DON'T MODIFY ANYTHING IN THIS CELL THAT IS BELOW THIS LINE\n",
    "\"\"\"\n",
    "tests.test_one_hot_encode(one_hot_encode)"
   ]
  },
  {
   "cell_type": "markdown",
   "metadata": {
    "deletable": true,
    "editable": true
   },
   "source": [
    "### Randomize Data\n",
    "As you saw from exploring the data above, the order of the samples are randomized.  It doesn't hurt to randomize it again, but you don't need to for this dataset."
   ]
  },
  {
   "cell_type": "markdown",
   "metadata": {
    "deletable": true,
    "editable": true
   },
   "source": [
    "## Preprocess all the data and save it\n",
    "Running the code cell below will preprocess all the CIFAR-10 data and save it to file. The code below also uses 10% of the training data for validation."
   ]
  },
  {
   "cell_type": "code",
   "execution_count": 7,
   "metadata": {
    "collapsed": false,
    "deletable": true,
    "editable": true
   },
   "outputs": [
    {
     "name": "stderr",
     "output_type": "stream",
     "text": [
      "/home/snowman/anaconda3/envs/server_35/lib/python3.5/site-packages/sklearn/utils/validation.py:429: DataConversionWarning: Data with input dtype uint8 was converted to float64 by MinMaxScaler.\n",
      "  warnings.warn(msg, _DataConversionWarning)\n"
     ]
    }
   ],
   "source": [
    "\"\"\"\n",
    "DON'T MODIFY ANYTHING IN THIS CELL\n",
    "\"\"\"\n",
    "# Preprocess Training, Validation, and Testing Data\n",
    "helper.preprocess_and_save_data(cifar10_dataset_folder_path, normalize, one_hot_encode)"
   ]
  },
  {
   "cell_type": "markdown",
   "metadata": {
    "deletable": true,
    "editable": true
   },
   "source": [
    "# Check Point\n",
    "This is your first checkpoint.  If you ever decide to come back to this notebook or have to restart the notebook, you can start from here.  The preprocessed data has been saved to disk."
   ]
  },
  {
   "cell_type": "code",
   "execution_count": 1,
   "metadata": {
    "collapsed": true,
    "deletable": true,
    "editable": true
   },
   "outputs": [],
   "source": [
    "\"\"\"\n",
    "DON'T MODIFY ANYTHING IN THIS CELL\n",
    "\"\"\"\n",
    "import pickle\n",
    "import problem_unittests as tests\n",
    "import helper\n",
    "\n",
    "# Load the Preprocessed Validation data\n",
    "valid_features, valid_labels = pickle.load(open('preprocess_validation.p', mode='rb'))"
   ]
  },
  {
   "cell_type": "markdown",
   "metadata": {
    "deletable": true,
    "editable": true
   },
   "source": [
    "## Build the network\n",
    "For the neural network, you'll build each layer into a function.  Most of the code you've seen has been outside of functions. To test your code more thoroughly, we require that you put each layer in a function.  This allows us to give you better feedback and test for simple mistakes using our unittests before you submit your project.\n",
    "\n",
    ">**Note:** If you're finding it hard to dedicate enough time for this course each week, we've provided a small shortcut to this part of the project. In the next couple of problems, you'll have the option to use classes from the [TensorFlow Layers](https://www.tensorflow.org/api_docs/python/tf/layers) or [TensorFlow Layers (contrib)](https://www.tensorflow.org/api_guides/python/contrib.layers) packages to build each layer, except the layers you build in the \"Convolutional and Max Pooling Layer\" section.  TF Layers is similar to Keras's and TFLearn's abstraction to layers, so it's easy to pickup.\n",
    "\n",
    ">However, if you would like to get the most out of this course, try to solve all the problems _without_ using anything from the TF Layers packages. You **can** still use classes from other packages that happen to have the same name as ones you find in TF Layers! For example, instead of using the TF Layers version of the `conv2d` class, [tf.layers.conv2d](https://www.tensorflow.org/api_docs/python/tf/layers/conv2d), you would want to use the TF Neural Network version of `conv2d`, [tf.nn.conv2d](https://www.tensorflow.org/api_docs/python/tf/nn/conv2d). \n",
    "\n",
    "Let's begin!\n",
    "\n",
    "### Input\n",
    "The neural network needs to read the image data, one-hot encoded labels, and dropout keep probability. Implement the following functions\n",
    "* Implement `neural_net_image_input`\n",
    " * Return a [TF Placeholder](https://www.tensorflow.org/api_docs/python/tf/placeholder)\n",
    " * Set the shape using `image_shape` with batch size set to `None`.\n",
    " * Name the TensorFlow placeholder \"x\" using the TensorFlow `name` parameter in the [TF Placeholder](https://www.tensorflow.org/api_docs/python/tf/placeholder).\n",
    "* Implement `neural_net_label_input`\n",
    " * Return a [TF Placeholder](https://www.tensorflow.org/api_docs/python/tf/placeholder)\n",
    " * Set the shape using `n_classes` with batch size set to `None`.\n",
    " * Name the TensorFlow placeholder \"y\" using the TensorFlow `name` parameter in the [TF Placeholder](https://www.tensorflow.org/api_docs/python/tf/placeholder).\n",
    "* Implement `neural_net_keep_prob_input`\n",
    " * Return a [TF Placeholder](https://www.tensorflow.org/api_docs/python/tf/placeholder) for dropout keep probability.\n",
    " * Name the TensorFlow placeholder \"keep_prob\" using the TensorFlow `name` parameter in the [TF Placeholder](https://www.tensorflow.org/api_docs/python/tf/placeholder).\n",
    "\n",
    "These names will be used at the end of the project to load your saved model.\n",
    "\n",
    "Note: `None` for shapes in TensorFlow allow for a dynamic size."
   ]
  },
  {
   "cell_type": "code",
   "execution_count": 2,
   "metadata": {
    "collapsed": false,
    "deletable": true,
    "editable": true
   },
   "outputs": [
    {
     "name": "stdout",
     "output_type": "stream",
     "text": [
      "Image Input Tests Passed.\n",
      "Label Input Tests Passed.\n",
      "Keep Prob Tests Passed.\n"
     ]
    }
   ],
   "source": [
    "import tensorflow as tf\n",
    "\n",
    "\n",
    "def neural_net_image_input(image_shape):\n",
    "    \"\"\"\n",
    "    Return a Tensor for a batch of image input\n",
    "    :param image_shape: Shape of the images\n",
    "    :return: Tensor for image input.\n",
    "    \"\"\"\n",
    "    # TODO: Implement Function\n",
    "    x = tf.placeholder(dtype=tf.float32, shape=(None,)+image_shape, name='x')\n",
    "    \n",
    "    return x\n",
    "\n",
    "\n",
    "def neural_net_label_input(n_classes):\n",
    "    \"\"\"\n",
    "    Return a Tensor for a batch of label input\n",
    "    :param n_classes: Number of classes\n",
    "    :return: Tensor for label input.\n",
    "    \"\"\"\n",
    "    # TODO: Implement Function\n",
    "    y = tf.placeholder(dtype=tf.float32, shape=(None,)+(n_classes,), name='y')\n",
    "    \n",
    "    return y\n",
    "\n",
    "\n",
    "def neural_net_keep_prob_input():\n",
    "    \"\"\"\n",
    "    Return a Tensor for keep probability\n",
    "    :return: Tensor for keep probability.\n",
    "    \"\"\"\n",
    "    # TODO: Implement Function\n",
    "    keep_prob = tf.placeholder(dtype=tf.float32, name='keep_prob')\n",
    "    \n",
    "    return keep_prob\n",
    "\n",
    "\"\"\"\n",
    "DON'T MODIFY ANYTHING IN THIS CELL THAT IS BELOW THIS LINE\n",
    "\"\"\"\n",
    "tf.reset_default_graph()\n",
    "tests.test_nn_image_inputs(neural_net_image_input)\n",
    "tests.test_nn_label_inputs(neural_net_label_input)\n",
    "tests.test_nn_keep_prob_inputs(neural_net_keep_prob_input)"
   ]
  },
  {
   "cell_type": "markdown",
   "metadata": {
    "deletable": true,
    "editable": true
   },
   "source": [
    "### Convolution and Max Pooling Layer\n",
    "Convolution layers have a lot of success with images. For this code cell, you should implement the function `conv2d_maxpool` to apply convolution then max pooling:\n",
    "* Create the weight and bias using `conv_ksize`, `conv_num_outputs` and the shape of `x_tensor`.\n",
    "* Apply a convolution to `x_tensor` using weight and `conv_strides`.\n",
    " * We recommend you use same padding, but you're welcome to use any padding.\n",
    "* Add bias\n",
    "* Add a nonlinear activation to the convolution.\n",
    "* Apply Max Pooling using `pool_ksize` and `pool_strides`.\n",
    " * We recommend you use same padding, but you're welcome to use any padding.\n",
    "\n",
    "**Note:** You **can't** use [TensorFlow Layers](https://www.tensorflow.org/api_docs/python/tf/layers) or [TensorFlow Layers (contrib)](https://www.tensorflow.org/api_guides/python/contrib.layers) for **this** layer, but you can still use TensorFlow's [Neural Network](https://www.tensorflow.org/api_docs/python/tf/nn) package. You may still use the shortcut option for all the **other** layers.\n",
    "\n",
    "** Hint: **\n",
    "\n",
    "When unpacking values as an argument in Python, look into the [unpacking](https://docs.python.org/3/tutorial/controlflow.html#unpacking-argument-lists) operator. "
   ]
  },
  {
   "cell_type": "code",
   "execution_count": 3,
   "metadata": {
    "collapsed": false,
    "deletable": true,
    "editable": true
   },
   "outputs": [
    {
     "name": "stdout",
     "output_type": "stream",
     "text": [
      "Tests Passed\n"
     ]
    }
   ],
   "source": [
    "def conv2d_maxpool(x_tensor, conv_num_outputs, conv_ksize,\n",
    "                   conv_strides, pool_ksize, pool_strides):\n",
    "    \"\"\"\n",
    "    Apply convolution then max pooling to x_tensor\n",
    "    :param x_tensor: TensorFlow Tensor\n",
    "    :param conv_num_outputs: Number of outputs for the convolutional layer\n",
    "    :param conv_ksize: kernel size 2-D Tuple for the convolutional layer\n",
    "    :param conv_strides: Stride 2-D Tuple for convolution\n",
    "    :param pool_ksize: kernel size 2-D Tuple for pool\n",
    "    :param pool_strides: Stride 2-D Tuple for pool\n",
    "    :return: A tensor that represents convolution and max pooling of x_tensor\n",
    "    \"\"\"\n",
    "    weights = tf.Variable(tf.truncated_normal([conv_ksize[0],\n",
    "                                               conv_ksize[1],\n",
    "                                               x_tensor.get_shape().as_list()[3],\n",
    "                                               conv_num_outputs]))\n",
    "    biases = tf.Variable(tf.zeros(conv_num_outputs))\n",
    "    \n",
    "    conv_strides = (1,) + conv_strides + (1,)\n",
    "    conv = tf.nn.bias_add(tf.nn.conv2d(x_tensor, weights,\n",
    "                                       conv_strides, padding='SAME'), biases)\n",
    "    conv = tf.nn.relu(conv)\n",
    "\n",
    "    pool_strides = (1,) + pool_strides + (1,)\n",
    "    pool_ksize = (1,) + pool_ksize + (1,)\n",
    "    conv_max = tf.nn.max_pool(conv, pool_ksize, pool_strides, padding='SAME')\n",
    "    \n",
    "    return conv_max\n",
    "\n",
    "\"\"\"\n",
    "DON'T MODIFY ANYTHING IN THIS CELL THAT IS BELOW THIS LINE\n",
    "\"\"\"\n",
    "tests.test_con_pool(conv2d_maxpool)"
   ]
  },
  {
   "cell_type": "markdown",
   "metadata": {
    "deletable": true,
    "editable": true
   },
   "source": [
    "### Flatten Layer\n",
    "Implement the `flatten` function to change the dimension of `x_tensor` from a 4-D tensor to a 2-D tensor.  The output should be the shape (*Batch Size*, *Flattened Image Size*). Shortcut option: you can use classes from the [TensorFlow Layers](https://www.tensorflow.org/api_docs/python/tf/layers) or [TensorFlow Layers (contrib)](https://www.tensorflow.org/api_guides/python/contrib.layers) packages for this layer. For more of a challenge, only use other TensorFlow packages."
   ]
  },
  {
   "cell_type": "code",
   "execution_count": 4,
   "metadata": {
    "collapsed": false,
    "deletable": true,
    "editable": true
   },
   "outputs": [
    {
     "name": "stdout",
     "output_type": "stream",
     "text": [
      "Tests Passed\n"
     ]
    }
   ],
   "source": [
    "def flatten(x_tensor):\n",
    "    \"\"\"\n",
    "    Flatten x_tensor to (Batch Size, Flattened Image Size)\n",
    "    :param x_tensor: A tensor of size (Batch Size, ...),\n",
    "     where ... are the image dimensions.\n",
    "    :return: A tensor of size (Batch Size, Flattened Image Size).\n",
    "    \"\"\"\n",
    "    import numpy as np\n",
    "    tensor_shape = x_tensor.get_shape().as_list()\n",
    "    flat_len = np.prod([tensor_shape[i] for i in range(1, 4)])\n",
    "    \n",
    "    return tf.reshape(x_tensor, [-1, flat_len])\n",
    "\n",
    "\"\"\"\n",
    "DON'T MODIFY ANYTHING IN THIS CELL THAT IS BELOW THIS LINE\n",
    "\"\"\"\n",
    "tests.test_flatten(flatten)"
   ]
  },
  {
   "cell_type": "markdown",
   "metadata": {
    "deletable": true,
    "editable": true
   },
   "source": [
    "### Fully-Connected Layer\n",
    "Implement the `fully_conn` function to apply a fully connected layer to `x_tensor` with the shape (*Batch Size*, *num_outputs*). Shortcut option: you can use classes from the [TensorFlow Layers](https://www.tensorflow.org/api_docs/python/tf/layers) or [TensorFlow Layers (contrib)](https://www.tensorflow.org/api_guides/python/contrib.layers) packages for this layer. For more of a challenge, only use other TensorFlow packages."
   ]
  },
  {
   "cell_type": "code",
   "execution_count": 5,
   "metadata": {
    "collapsed": false,
    "deletable": true,
    "editable": true
   },
   "outputs": [
    {
     "name": "stdout",
     "output_type": "stream",
     "text": [
      "Tests Passed\n"
     ]
    }
   ],
   "source": [
    "def fully_conn(x_tensor, num_outputs):\n",
    "    \"\"\"\n",
    "    Apply a fully connected layer to x_tensor using weight and bias\n",
    "    :param x_tensor: A 2-D tensor where the first dimension is batch size.\n",
    "    :param num_outputs: The number of output that the new tensor should be.\n",
    "    :return: A 2-D tensor where the second dimension is num_outputs.\n",
    "    \"\"\"\n",
    "    weights = tf.Variable(tf.truncated_normal([x_tensor.get_shape().as_list()[1],\n",
    "                                               num_outputs]))\n",
    "    biases = tf.Variable(tf.zeros(num_outputs))\n",
    "    \n",
    "    conn = tf.nn.bias_add(tf.matmul(x_tensor, weights), biases)\n",
    "    return conn\n",
    "\n",
    "\"\"\"\n",
    "DON'T MODIFY ANYTHING IN THIS CELL THAT IS BELOW THIS LINE\n",
    "\"\"\"\n",
    "tests.test_fully_conn(fully_conn)"
   ]
  },
  {
   "cell_type": "markdown",
   "metadata": {
    "deletable": true,
    "editable": true
   },
   "source": [
    "### Output Layer\n",
    "Implement the `output` function to apply a fully connected layer to `x_tensor` with the shape (*Batch Size*, *num_outputs*). Shortcut option: you can use classes from the [TensorFlow Layers](https://www.tensorflow.org/api_docs/python/tf/layers) or [TensorFlow Layers (contrib)](https://www.tensorflow.org/api_guides/python/contrib.layers) packages for this layer. For more of a challenge, only use other TensorFlow packages.\n",
    "\n",
    "**Note:** Activation, softmax, or cross entropy should **not** be applied to this."
   ]
  },
  {
   "cell_type": "code",
   "execution_count": 6,
   "metadata": {
    "collapsed": false,
    "deletable": true,
    "editable": true
   },
   "outputs": [
    {
     "name": "stdout",
     "output_type": "stream",
     "text": [
      "Tests Passed\n"
     ]
    }
   ],
   "source": [
    "def output(x_tensor, num_outputs):\n",
    "    \"\"\"\n",
    "    Apply a output layer to x_tensor using weight and bias\n",
    "    : x_tensor: A 2-D tensor where the first dimension is batch size.\n",
    "    : num_outputs: The number of output that the new tensor should be.\n",
    "    : return: A 2-D tensor where the second dimension is num_outputs.\n",
    "    \"\"\"\n",
    "    weights = tf.Variable(tf.truncated_normal([x_tensor.get_shape().as_list()[1],\n",
    "                                               num_outputs]))\n",
    "    biases = tf.Variable(tf.zeros(num_outputs))\n",
    "\n",
    "    conn = tf.nn.bias_add(tf.matmul(x_tensor, weights), biases)\n",
    "    return conn\n",
    "\n",
    "\"\"\"\n",
    "DON'T MODIFY ANYTHING IN THIS CELL THAT IS BELOW THIS LINE\n",
    "\"\"\"\n",
    "tests.test_output(output)"
   ]
  },
  {
   "cell_type": "markdown",
   "metadata": {
    "deletable": true,
    "editable": true
   },
   "source": [
    "### Create Convolutional Model\n",
    "Implement the function `conv_net` to create a convolutional neural network model. The function takes in a batch of images, `x`, and outputs logits.  Use the layers you created above to create this model:\n",
    "\n",
    "* Apply 1, 2, or 3 Convolution and Max Pool layers\n",
    "* Apply a Flatten Layer\n",
    "* Apply 1, 2, or 3 Fully Connected Layers\n",
    "* Apply an Output Layer\n",
    "* Return the output\n",
    "* Apply [TensorFlow's Dropout](https://www.tensorflow.org/api_docs/python/tf/nn/dropout) to one or more layers in the model using `keep_prob`. "
   ]
  },
  {
   "cell_type": "code",
   "execution_count": 7,
   "metadata": {
    "collapsed": false,
    "deletable": true,
    "editable": true
   },
   "outputs": [
    {
     "name": "stdout",
     "output_type": "stream",
     "text": [
      "Neural Network Built!\n"
     ]
    }
   ],
   "source": [
    "def conv_net(x, keep_prob):\n",
    "    \"\"\"\n",
    "    Create a convolutional neural network model\n",
    "    :param x: Placeholder tensor that holds image data.\n",
    "    :param keep_prob: Placeholder tensor that hold dropout keep probability.\n",
    "    :return: Tensor that represents logits\n",
    "    \"\"\"\n",
    "    # TODO: Apply 1, 2, or 3 Convolution and Max Pool layers\n",
    "    #    Play around with different number of outputs, kernel size and stride\n",
    "    # Function Definition from Above:\n",
    "    conv = conv2d_maxpool(x_tensor=x,\n",
    "                            conv_num_outputs=100,\n",
    "                            conv_ksize=(3, 3),\n",
    "                            conv_strides=(1, 1),\n",
    "                            pool_ksize=(2, 2),\n",
    "                            pool_strides=(1, 1))\n",
    "    \n",
    "    # TODO: Apply a Flatten Layer\n",
    "    # Function Definition from Above:\n",
    "    fc = flatten(x_tensor=conv)\n",
    "    \n",
    "    # TODO: Apply 1, 2, or 3 Fully Connected Layers\n",
    "    #    Play around with different number of outputs\n",
    "    fc = fully_conn(x_tensor=fc, num_outputs=512)\n",
    "    fc = tf.nn.dropout(fc, keep_prob)\n",
    "    \n",
    "    # TODO: Apply an Output Layer\n",
    "    #    Set this to the number of classes\n",
    "    out = output(x_tensor=fc, num_outputs=10)\n",
    "\n",
    "    # TODO: return output\n",
    "    return out\n",
    "\n",
    "\"\"\"\n",
    "DON'T MODIFY ANYTHING IN THIS CELL THAT IS BELOW THIS LINE\n",
    "\"\"\"\n",
    "\n",
    "##############################\n",
    "## Build the Neural Network ##\n",
    "##############################\n",
    "\n",
    "# Remove previous weights, bias, inputs, etc..\n",
    "tf.reset_default_graph()\n",
    "\n",
    "# Inputs\n",
    "x = neural_net_image_input((32, 32, 3))\n",
    "y = neural_net_label_input(10)\n",
    "keep_prob = neural_net_keep_prob_input()\n",
    "\n",
    "# Model\n",
    "logits = conv_net(x, keep_prob)\n",
    "\n",
    "# Name logits Tensor, so that is can be loaded from disk after training\n",
    "logits = tf.identity(logits, name='logits')\n",
    "\n",
    "# Loss and Optimizer\n",
    "cost = tf.reduce_mean(tf.nn.softmax_cross_entropy_with_logits(logits=logits, labels=y))\n",
    "optimizer = tf.train.AdamOptimizer().minimize(cost)\n",
    "\n",
    "# Accuracy\n",
    "correct_pred = tf.equal(tf.argmax(logits, 1), tf.argmax(y, 1))\n",
    "accuracy = tf.reduce_mean(tf.cast(correct_pred, tf.float32), name='accuracy')\n",
    "\n",
    "tests.test_conv_net(conv_net)"
   ]
  },
  {
   "cell_type": "markdown",
   "metadata": {
    "deletable": true,
    "editable": true
   },
   "source": [
    "## Train the Neural Network\n",
    "### Single Optimization\n",
    "Implement the function `train_neural_network` to do a single optimization.  The optimization should use `optimizer` to optimize in `session` with a `feed_dict` of the following:\n",
    "* `x` for image input\n",
    "* `y` for labels\n",
    "* `keep_prob` for keep probability for dropout\n",
    "\n",
    "This function will be called for each batch, so `tf.global_variables_initializer()` has already been called.\n",
    "\n",
    "Note: Nothing needs to be returned. This function is only optimizing the neural network."
   ]
  },
  {
   "cell_type": "code",
   "execution_count": 8,
   "metadata": {
    "collapsed": false,
    "deletable": true,
    "editable": true
   },
   "outputs": [
    {
     "name": "stdout",
     "output_type": "stream",
     "text": [
      "Tests Passed\n"
     ]
    }
   ],
   "source": [
    "def train_neural_network(session, optimizer, keep_probability,\n",
    "                         feature_batch, label_batch):\n",
    "    \"\"\"\n",
    "    Optimize the session on a batch of images and labels\n",
    "    :param session: Current TensorFlow session\n",
    "    :param optimizer: TensorFlow optimizer function\n",
    "    :param keep_probability: keep probability\n",
    "    :param feature_batch: Batch of Numpy image data\n",
    "    :param label_batch: Batch of Numpy label data\n",
    "    \"\"\"\n",
    "    session.run(optimizer, feed_dict={\n",
    "        x: feature_batch,\n",
    "        y: label_batch,\n",
    "        keep_prob: keep_probability,\n",
    "    })\n",
    "    \n",
    "\"\"\"\n",
    "DON'T MODIFY ANYTHING IN THIS CELL THAT IS BELOW THIS LINE\n",
    "\"\"\"\n",
    "tests.test_train_nn(train_neural_network)"
   ]
  },
  {
   "cell_type": "markdown",
   "metadata": {
    "deletable": true,
    "editable": true
   },
   "source": [
    "### Show Stats\n",
    "Implement the function `print_stats` to print loss and validation accuracy.  Use the global variables `valid_features` and `valid_labels` to calculate validation accuracy.  Use a keep probability of `1.0` to calculate the loss and validation accuracy."
   ]
  },
  {
   "cell_type": "code",
   "execution_count": 9,
   "metadata": {
    "collapsed": false,
    "deletable": true,
    "editable": true
   },
   "outputs": [],
   "source": [
    "def print_stats(session, feature_batch, label_batch, cost, accuracy):\n",
    "    \"\"\"\n",
    "    Print information about loss and validation accuracy\n",
    "    :param session: Current TensorFlow session\n",
    "    :param feature_batch: Batch of Numpy image data\n",
    "    :param label_batch: Batch of Numpy label data\n",
    "    :param cost: TensorFlow cost function\n",
    "    :param accuracy: TensorFlow accuracy function\n",
    "    \"\"\"\n",
    "    loss = session.run(cost, feed_dict={\n",
    "        x: feature_batch,\n",
    "        y: label_batch,\n",
    "        keep_prob: 1.,\n",
    "    })\n",
    "\n",
    "    validation_acc = session.run(accuracy, feed_dict={\n",
    "        x: valid_features,\n",
    "        y: valid_labels,\n",
    "        keep_prob: 1.,\n",
    "    })\n",
    "\n",
    "    print('Loss: {0:.5f}'.format(loss))\n",
    "    print('Validation Accuracy: {0:.5f}'.format(validation_acc))"
   ]
  },
  {
   "cell_type": "markdown",
   "metadata": {
    "deletable": true,
    "editable": true
   },
   "source": [
    "### Hyperparameters\n",
    "Tune the following parameters:\n",
    "* Set `epochs` to the number of iterations until the network stops learning or start overfitting\n",
    "* Set `batch_size` to the highest number that your machine has memory for.  Most people set them to common sizes of memory:\n",
    " * 64\n",
    " * 128\n",
    " * 256\n",
    " * ...\n",
    "* Set `keep_probability` to the probability of keeping a node using dropout"
   ]
  },
  {
   "cell_type": "code",
   "execution_count": 10,
   "metadata": {
    "collapsed": true,
    "deletable": true,
    "editable": true
   },
   "outputs": [],
   "source": [
    "# TODO: Tune Parameters\n",
    "epochs = 100\n",
    "batch_size = 2048\n",
    "keep_probability = 0.75"
   ]
  },
  {
   "cell_type": "markdown",
   "metadata": {
    "deletable": true,
    "editable": true
   },
   "source": [
    "### Train on a Single CIFAR-10 Batch\n",
    "Instead of training the neural network on all the CIFAR-10 batches of data, let's use a single batch. This should save time while you iterate on the model to get a better accuracy.  Once the final validation accuracy is 50% or greater, run the model on all the data in the next section."
   ]
  },
  {
   "cell_type": "code",
   "execution_count": null,
   "metadata": {
    "collapsed": false,
    "deletable": true,
    "editable": true,
    "scrolled": true
   },
   "outputs": [
    {
     "name": "stdout",
     "output_type": "stream",
     "text": [
      "Checking the Training on a Single Batch...\n",
      "Epoch  1, CIFAR-10 Batch 1:  Loss: 11566.04590\n",
      "Validation Accuracy: 0.14820\n",
      "Epoch  2, CIFAR-10 Batch 1:  Loss: 6783.36377\n",
      "Validation Accuracy: 0.18940\n",
      "Epoch  3, CIFAR-10 Batch 1:  Loss: 7100.06494\n",
      "Validation Accuracy: 0.14240\n",
      "Epoch  4, CIFAR-10 Batch 1:  Loss: 4461.41846\n",
      "Validation Accuracy: 0.23140\n",
      "Epoch  5, CIFAR-10 Batch 1:  Loss: 2961.11694\n",
      "Validation Accuracy: 0.27700\n",
      "Epoch  6, CIFAR-10 Batch 1:  Loss: 2628.51172\n",
      "Validation Accuracy: 0.29220\n",
      "Epoch  7, CIFAR-10 Batch 1:  Loss: 2419.97485\n",
      "Validation Accuracy: 0.31400\n",
      "Epoch  8, CIFAR-10 Batch 1:  Loss: 2169.48730\n",
      "Validation Accuracy: 0.33520\n",
      "Epoch  9, CIFAR-10 Batch 1:  Loss: 2020.69312\n",
      "Validation Accuracy: 0.34540\n",
      "Epoch 10, CIFAR-10 Batch 1:  Loss: 1830.01855\n",
      "Validation Accuracy: 0.35160\n",
      "Epoch 11, CIFAR-10 Batch 1:  Loss: 1628.59070\n",
      "Validation Accuracy: 0.36280\n",
      "Epoch 12, CIFAR-10 Batch 1:  Loss: 1481.65112\n",
      "Validation Accuracy: 0.37720\n",
      "Epoch 13, CIFAR-10 Batch 1:  Loss: 1356.06152\n",
      "Validation Accuracy: 0.37760\n",
      "Epoch 14, CIFAR-10 Batch 1:  Loss: 1208.56567\n",
      "Validation Accuracy: 0.38700\n",
      "Epoch 15, CIFAR-10 Batch 1:  Loss: 1131.97681\n",
      "Validation Accuracy: 0.39200\n",
      "Epoch 16, CIFAR-10 Batch 1:  Loss: 1061.75281\n",
      "Validation Accuracy: 0.39240\n",
      "Epoch 17, CIFAR-10 Batch 1:  Loss: 990.52167\n",
      "Validation Accuracy: 0.39320\n",
      "Epoch 18, CIFAR-10 Batch 1:  Loss: 878.93848\n",
      "Validation Accuracy: 0.40060\n",
      "Epoch 19, CIFAR-10 Batch 1:  Loss: 801.16962\n",
      "Validation Accuracy: 0.40720\n",
      "Epoch 20, CIFAR-10 Batch 1:  Loss: 761.22430\n",
      "Validation Accuracy: 0.40980\n",
      "Epoch 21, CIFAR-10 Batch 1:  Loss: 735.86975\n",
      "Validation Accuracy: 0.41020\n",
      "Epoch 22, CIFAR-10 Batch 1:  Loss: 671.30988\n",
      "Validation Accuracy: 0.41760\n",
      "Epoch 23, CIFAR-10 Batch 1:  Loss: 701.38214\n",
      "Validation Accuracy: 0.41800\n",
      "Epoch 24, CIFAR-10 Batch 1:  Loss: 677.38104\n",
      "Validation Accuracy: 0.42100\n",
      "Epoch 25, CIFAR-10 Batch 1:  Loss: 619.50726\n",
      "Validation Accuracy: 0.42760\n",
      "Epoch 26, CIFAR-10 Batch 1:  Loss: 579.33881\n",
      "Validation Accuracy: 0.42500\n",
      "Epoch 27, CIFAR-10 Batch 1:  Loss: 531.85492\n",
      "Validation Accuracy: 0.43560\n",
      "Epoch 28, CIFAR-10 Batch 1:  Loss: 523.61786\n",
      "Validation Accuracy: 0.43780\n",
      "Epoch 29, CIFAR-10 Batch 1:  Loss: 442.28546\n",
      "Validation Accuracy: 0.44320\n",
      "Epoch 30, CIFAR-10 Batch 1:  Loss: 423.85580\n",
      "Validation Accuracy: 0.44440\n",
      "Epoch 31, CIFAR-10 Batch 1:  Loss: 416.24738\n",
      "Validation Accuracy: 0.44980\n",
      "Epoch 32, CIFAR-10 Batch 1:  Loss: 435.71008\n",
      "Validation Accuracy: 0.44980\n",
      "Epoch 33, CIFAR-10 Batch 1:  Loss: 404.15976\n",
      "Validation Accuracy: 0.45700\n",
      "Epoch 34, CIFAR-10 Batch 1:  Loss: 404.27267\n",
      "Validation Accuracy: 0.45500\n",
      "Epoch 35, CIFAR-10 Batch 1:  Loss: 341.37271\n",
      "Validation Accuracy: 0.45480\n",
      "Epoch 36, CIFAR-10 Batch 1:  Loss: 319.22141\n",
      "Validation Accuracy: 0.45900\n",
      "Epoch 37, CIFAR-10 Batch 1:  Loss: 281.57135\n",
      "Validation Accuracy: 0.47620\n",
      "Epoch 38, CIFAR-10 Batch 1:  Loss: 267.34467\n",
      "Validation Accuracy: 0.48280\n",
      "Epoch 39, CIFAR-10 Batch 1:  Loss: 265.41733\n",
      "Validation Accuracy: 0.48480\n",
      "Epoch 40, CIFAR-10 Batch 1:  Loss: 281.76920\n",
      "Validation Accuracy: 0.46660\n",
      "Epoch 41, CIFAR-10 Batch 1:  Loss: 312.18600\n",
      "Validation Accuracy: 0.45780\n",
      "Epoch 42, CIFAR-10 Batch 1:  Loss: 261.06555\n",
      "Validation Accuracy: 0.46960\n",
      "Epoch 43, CIFAR-10 Batch 1:  Loss: 283.51907\n",
      "Validation Accuracy: 0.44660\n",
      "Epoch 44, CIFAR-10 Batch 1:  Loss: 318.41989\n",
      "Validation Accuracy: 0.44760\n",
      "Epoch 45, CIFAR-10 Batch 1:  Loss: 278.06226\n",
      "Validation Accuracy: 0.45960\n",
      "Epoch 46, CIFAR-10 Batch 1:  Loss: 264.98563\n",
      "Validation Accuracy: 0.47060\n",
      "Epoch 47, CIFAR-10 Batch 1:  Loss: 200.95583\n",
      "Validation Accuracy: 0.47840\n",
      "Epoch 48, CIFAR-10 Batch 1:  Loss: 176.97467\n",
      "Validation Accuracy: 0.48260\n",
      "Epoch 49, CIFAR-10 Batch 1:  Loss: 184.49869\n",
      "Validation Accuracy: 0.47500\n",
      "Epoch 50, CIFAR-10 Batch 1:  Loss: 165.73631\n",
      "Validation Accuracy: 0.47940\n",
      "Epoch 51, CIFAR-10 Batch 1:  Loss: 164.44496\n",
      "Validation Accuracy: 0.49040\n",
      "Epoch 52, CIFAR-10 Batch 1:  Loss: 149.82109\n",
      "Validation Accuracy: 0.48600\n",
      "Epoch 53, CIFAR-10 Batch 1:  Loss: 144.39090\n",
      "Validation Accuracy: 0.48420\n",
      "Epoch 54, CIFAR-10 Batch 1:  Loss: 149.09258\n",
      "Validation Accuracy: 0.47720\n",
      "Epoch 55, CIFAR-10 Batch 1:  Loss: 149.84146\n",
      "Validation Accuracy: 0.47400\n",
      "Epoch 56, CIFAR-10 Batch 1:  Loss: 143.75748\n",
      "Validation Accuracy: 0.48760\n",
      "Epoch 57, CIFAR-10 Batch 1:  Loss: 110.60757\n",
      "Validation Accuracy: 0.49880\n",
      "Epoch 58, CIFAR-10 Batch 1:  Loss: 106.87230\n",
      "Validation Accuracy: 0.49340\n",
      "Epoch 59, CIFAR-10 Batch 1:  Loss: 130.97821\n",
      "Validation Accuracy: 0.48120\n",
      "Epoch 60, CIFAR-10 Batch 1:  Loss: 148.00047\n",
      "Validation Accuracy: 0.48020\n",
      "Epoch 61, CIFAR-10 Batch 1:  Loss: 114.74103\n",
      "Validation Accuracy: 0.48420\n",
      "Epoch 62, CIFAR-10 Batch 1:  Loss: 178.54002\n",
      "Validation Accuracy: 0.46120\n",
      "Epoch 63, CIFAR-10 Batch 1:  Loss: 363.61499\n",
      "Validation Accuracy: 0.42460\n",
      "Epoch 64, CIFAR-10 Batch 1:  Loss: 228.69078\n",
      "Validation Accuracy: 0.45220\n",
      "Epoch 65, CIFAR-10 Batch 1:  Loss: 111.38718\n",
      "Validation Accuracy: 0.49940\n",
      "Epoch 66, CIFAR-10 Batch 1:  Loss: 81.18402\n",
      "Validation Accuracy: 0.51260\n",
      "Epoch 67, CIFAR-10 Batch 1:  Loss: 87.96637\n",
      "Validation Accuracy: 0.51440\n",
      "Epoch 68, CIFAR-10 Batch 1:  Loss: 108.25329\n",
      "Validation Accuracy: 0.50780\n",
      "Epoch 69, CIFAR-10 Batch 1:  Loss: 141.66580\n",
      "Validation Accuracy: 0.49920\n",
      "Epoch 70, CIFAR-10 Batch 1:  Loss: 154.11395\n",
      "Validation Accuracy: 0.49000\n",
      "Epoch 71, CIFAR-10 Batch 1:  Loss: 163.70767\n",
      "Validation Accuracy: 0.49040\n",
      "Epoch 72, CIFAR-10 Batch 1:  Loss: 111.04221\n",
      "Validation Accuracy: 0.50020\n",
      "Epoch 73, CIFAR-10 Batch 1:  Loss: 81.33358\n",
      "Validation Accuracy: 0.50260\n",
      "Epoch 74, CIFAR-10 Batch 1:  Loss: 113.83471\n",
      "Validation Accuracy: 0.47900\n",
      "Epoch 75, CIFAR-10 Batch 1:  Loss: 213.99219\n",
      "Validation Accuracy: 0.45220\n",
      "Epoch 76, CIFAR-10 Batch 1:  Loss: 275.97275\n",
      "Validation Accuracy: 0.44200\n",
      "Epoch 77, CIFAR-10 Batch 1:  Loss: 195.69589\n",
      "Validation Accuracy: 0.46280\n",
      "Epoch 78, CIFAR-10 Batch 1:  Loss: 133.41695\n",
      "Validation Accuracy: 0.48240\n",
      "Epoch 79, CIFAR-10 Batch 1:  Loss: 68.92306\n",
      "Validation Accuracy: 0.51700\n",
      "Epoch 80, CIFAR-10 Batch 1:  Loss: 61.06871\n",
      "Validation Accuracy: 0.51880\n",
      "Epoch 81, CIFAR-10 Batch 1:  Loss: 59.21400\n",
      "Validation Accuracy: 0.52000\n",
      "Epoch 82, CIFAR-10 Batch 1:  Loss: 75.32427\n",
      "Validation Accuracy: 0.51660\n",
      "Epoch 83, CIFAR-10 Batch 1:  Loss: 67.81517\n",
      "Validation Accuracy: 0.51440\n",
      "Epoch 84, CIFAR-10 Batch 1:  Loss: 45.27425\n",
      "Validation Accuracy: 0.51960\n",
      "Epoch 85, CIFAR-10 Batch 1:  Loss: 40.68697\n",
      "Validation Accuracy: 0.51400\n",
      "Epoch 86, CIFAR-10 Batch 1:  Loss: 51.34621\n",
      "Validation Accuracy: 0.51460\n",
      "Epoch 87, CIFAR-10 Batch 1:  Loss: 47.76205\n",
      "Validation Accuracy: 0.51740\n",
      "Epoch 88, CIFAR-10 Batch 1:  Loss: 45.24936\n",
      "Validation Accuracy: 0.51460\n",
      "Epoch 89, CIFAR-10 Batch 1:  Loss: 36.85183\n",
      "Validation Accuracy: 0.51800\n",
      "Epoch 90, CIFAR-10 Batch 1:  Loss: 29.41460\n",
      "Validation Accuracy: 0.52040\n",
      "Epoch 91, CIFAR-10 Batch 1:  Loss: 28.13853\n",
      "Validation Accuracy: 0.52460\n",
      "Epoch 92, CIFAR-10 Batch 1:  Loss: 18.42626\n",
      "Validation Accuracy: 0.52900\n",
      "Epoch 93, CIFAR-10 Batch 1:  Loss: 16.49005\n",
      "Validation Accuracy: 0.53280\n",
      "Epoch 94, CIFAR-10 Batch 1:  Loss: 27.31941\n",
      "Validation Accuracy: 0.51920\n",
      "Epoch 95, CIFAR-10 Batch 1:  Loss: 27.11344\n",
      "Validation Accuracy: 0.51940\n",
      "Epoch 96, CIFAR-10 Batch 1:  Loss: 21.47708\n",
      "Validation Accuracy: 0.52360\n",
      "Epoch 97, CIFAR-10 Batch 1:  Loss: 18.77729\n",
      "Validation Accuracy: 0.52140\n",
      "Epoch 98, CIFAR-10 Batch 1:  Loss: 18.73557\n",
      "Validation Accuracy: 0.52420\n",
      "Epoch 99, CIFAR-10 Batch 1:  Loss: 18.56422\n",
      "Validation Accuracy: 0.52520\n",
      "Epoch 100, CIFAR-10 Batch 1:  Loss: 19.85329\n",
      "Validation Accuracy: 0.51900\n"
     ]
    }
   ],
   "source": [
    "\"\"\"\n",
    "DON'T MODIFY ANYTHING IN THIS CELL\n",
    "\"\"\"\n",
    "print('Checking the Training on a Single Batch...')\n",
    "\n",
    "with tf.Session() as sess:\n",
    "    # Initializing the variables\n",
    "    sess.run(tf.global_variables_initializer())\n",
    "    \n",
    "    # Training cycle\n",
    "    for epoch in range(epochs):\n",
    "        batch_i = 1\n",
    "        for batch_features, batch_labels \\\n",
    "                in helper.load_preprocess_training_batch(batch_i, batch_size):\n",
    "            train_neural_network(sess, optimizer, keep_probability,\n",
    "                                 batch_features, batch_labels)\n",
    "        print('Epoch {:>2}, CIFAR-10 Batch {}:  '.format(epoch + 1, batch_i), end='')\n",
    "        print_stats(sess, batch_features, batch_labels, cost, accuracy)"
   ]
  },
  {
   "cell_type": "markdown",
   "metadata": {
    "deletable": true,
    "editable": true
   },
   "source": [
    "### Fully Train the Model\n",
    "Now that you got a good accuracy with a single CIFAR-10 batch, try it with all five batches."
   ]
  },
  {
   "cell_type": "code",
   "execution_count": null,
   "metadata": {
    "collapsed": false,
    "deletable": true,
    "editable": true,
    "scrolled": true
   },
   "outputs": [
    {
     "name": "stdout",
     "output_type": "stream",
     "text": [
      "Training...\n",
      "Epoch  1, CIFAR-10 Batch 1:  Loss: 12096.82910\n",
      "Validation Accuracy: 0.12900\n",
      "Epoch  1, CIFAR-10 Batch 2:  Loss: 6835.44043\n",
      "Validation Accuracy: 0.16080\n",
      "Epoch  1, CIFAR-10 Batch 3:  Loss: 5627.47168\n",
      "Validation Accuracy: 0.19100\n",
      "Epoch  1, CIFAR-10 Batch 4:  Loss: 4778.78516\n",
      "Validation Accuracy: 0.23680\n",
      "Epoch  1, CIFAR-10 Batch 5:  Loss: 4047.27051\n",
      "Validation Accuracy: 0.23220\n",
      "Epoch  2, CIFAR-10 Batch 1:  Loss: 4026.11792\n",
      "Validation Accuracy: 0.28700\n",
      "Epoch  2, CIFAR-10 Batch 2:  Loss: 3192.67456\n",
      "Validation Accuracy: 0.29580\n",
      "Epoch  2, CIFAR-10 Batch 3:  Loss: 2820.35034\n",
      "Validation Accuracy: 0.31640\n",
      "Epoch  2, CIFAR-10 Batch 4:  Loss: 2425.32324\n",
      "Validation Accuracy: 0.33440\n",
      "Epoch  2, CIFAR-10 Batch 5:  Loss: 2387.81860\n",
      "Validation Accuracy: 0.33740\n",
      "Epoch  3, CIFAR-10 Batch 1:  Loss: 2300.20923\n",
      "Validation Accuracy: 0.34040\n",
      "Epoch  3, CIFAR-10 Batch 2:  Loss: 1848.36536\n",
      "Validation Accuracy: 0.36440\n",
      "Epoch  3, CIFAR-10 Batch 3:  Loss: 1752.27759\n",
      "Validation Accuracy: 0.35620\n",
      "Epoch  3, CIFAR-10 Batch 4:  Loss: 1723.10669\n",
      "Validation Accuracy: 0.37100\n",
      "Epoch  3, CIFAR-10 Batch 5:  Loss: 1565.14807\n",
      "Validation Accuracy: 0.38180\n",
      "Epoch  4, CIFAR-10 Batch 1:  Loss: 1670.45764\n",
      "Validation Accuracy: 0.39540\n",
      "Epoch  4, CIFAR-10 Batch 2:  Loss: 1387.79150\n",
      "Validation Accuracy: 0.39360\n",
      "Epoch  4, CIFAR-10 Batch 3:  Loss: 1274.33594\n",
      "Validation Accuracy: 0.40180\n",
      "Epoch  4, CIFAR-10 Batch 4:  Loss: 1300.48804\n",
      "Validation Accuracy: 0.41240\n",
      "Epoch  4, CIFAR-10 Batch 5:  Loss: 1239.04358\n",
      "Validation Accuracy: 0.40920\n",
      "Epoch  5, CIFAR-10 Batch 1:  Loss: 1339.25122\n",
      "Validation Accuracy: 0.41760\n",
      "Epoch  5, CIFAR-10 Batch 2:  Loss: 1112.42004\n",
      "Validation Accuracy: 0.42740\n",
      "Epoch  5, CIFAR-10 Batch 3:  Loss: 1019.01349\n",
      "Validation Accuracy: 0.43200\n",
      "Epoch  5, CIFAR-10 Batch 4:  Loss: 1085.94373\n",
      "Validation Accuracy: 0.45000\n",
      "Epoch  5, CIFAR-10 Batch 5:  Loss: 1067.17627\n",
      "Validation Accuracy: 0.44440\n",
      "Epoch  6, CIFAR-10 Batch 1:  Loss: 1102.90808\n",
      "Validation Accuracy: 0.45560\n",
      "Epoch  6, CIFAR-10 Batch 2:  Loss: 1005.47620\n",
      "Validation Accuracy: 0.44280\n",
      "Epoch  6, CIFAR-10 Batch 3:  Loss: 995.01038\n",
      "Validation Accuracy: 0.43180\n",
      "Epoch  6, CIFAR-10 Batch 4:  Loss: 991.05212\n",
      "Validation Accuracy: 0.46140\n",
      "Epoch  6, CIFAR-10 Batch 5:  Loss: 941.78558\n",
      "Validation Accuracy: 0.46820\n",
      "Epoch  7, CIFAR-10 Batch 1:  Loss: 963.60022\n",
      "Validation Accuracy: 0.47460\n",
      "Epoch  7, CIFAR-10 Batch 2:  Loss: 880.50897\n",
      "Validation Accuracy: 0.47240\n",
      "Epoch  7, CIFAR-10 Batch 3:  Loss: 722.01825\n",
      "Validation Accuracy: 0.48860\n",
      "Epoch  7, CIFAR-10 Batch 4:  Loss: 846.27753\n",
      "Validation Accuracy: 0.48520\n",
      "Epoch  7, CIFAR-10 Batch 5:  Loss: 807.16144\n",
      "Validation Accuracy: 0.47840\n",
      "Epoch  8, CIFAR-10 Batch 1:  Loss: 885.92096\n",
      "Validation Accuracy: 0.48240\n",
      "Epoch  8, CIFAR-10 Batch 2:  Loss: 920.19073\n",
      "Validation Accuracy: 0.45100\n",
      "Epoch  8, CIFAR-10 Batch 3:  Loss: 776.34033\n",
      "Validation Accuracy: 0.47300\n",
      "Epoch  8, CIFAR-10 Batch 4:  Loss: 817.13605\n",
      "Validation Accuracy: 0.47900\n",
      "Epoch  8, CIFAR-10 Batch 5:  Loss: 703.81683\n",
      "Validation Accuracy: 0.49740\n",
      "Epoch  9, CIFAR-10 Batch 1:  Loss: 726.91833\n",
      "Validation Accuracy: 0.51280\n",
      "Epoch  9, CIFAR-10 Batch 2:  Loss: 697.50525\n",
      "Validation Accuracy: 0.50880\n",
      "Epoch  9, CIFAR-10 Batch 3:  Loss: 622.79059\n",
      "Validation Accuracy: 0.51160\n",
      "Epoch  9, CIFAR-10 Batch 4:  Loss: 708.86975\n",
      "Validation Accuracy: 0.50660\n"
     ]
    }
   ],
   "source": [
    "\"\"\"\n",
    "DON'T MODIFY ANYTHING IN THIS CELL\n",
    "\"\"\"\n",
    "save_model_path = './image_classification'\n",
    "\n",
    "print('Training...')\n",
    "with tf.Session() as sess:\n",
    "    # Initializing the variables\n",
    "    sess.run(tf.global_variables_initializer())\n",
    "    \n",
    "    # Training cycle\n",
    "    for epoch in range(epochs):\n",
    "        # Loop over all batches\n",
    "        n_batches = 5\n",
    "        for batch_i in range(1, n_batches + 1):\n",
    "            for batch_features, batch_labels \\\n",
    "                    in helper.load_preprocess_training_batch(batch_i, batch_size):\n",
    "                train_neural_network(sess, optimizer, keep_probability,\n",
    "                                     batch_features, batch_labels)\n",
    "            print('Epoch {:>2}, CIFAR-10 Batch {}:  '.format(epoch + 1, batch_i),\n",
    "                  end='')\n",
    "            print_stats(sess, batch_features, batch_labels, cost, accuracy)\n",
    "            \n",
    "    # Save Model\n",
    "    saver = tf.train.Saver()\n",
    "    save_path = saver.save(sess, save_model_path)"
   ]
  },
  {
   "cell_type": "markdown",
   "metadata": {
    "deletable": true,
    "editable": true
   },
   "source": [
    "# Checkpoint\n",
    "The model has been saved to disk.\n",
    "## Test Model\n",
    "Test your model against the test dataset.  This will be your final accuracy. You should have an accuracy greater than 50%. If you don't, keep tweaking the model architecture and parameters."
   ]
  },
  {
   "cell_type": "code",
   "execution_count": null,
   "metadata": {
    "collapsed": false,
    "deletable": true,
    "editable": true
   },
   "outputs": [],
   "source": [
    "\"\"\"\n",
    "DON'T MODIFY ANYTHING IN THIS CELL\n",
    "\"\"\"\n",
    "%matplotlib inline\n",
    "%config InlineBackend.figure_format = 'retina'\n",
    "\n",
    "import tensorflow as tf\n",
    "import pickle\n",
    "import helper\n",
    "import random\n",
    "\n",
    "# Set batch size if not already set\n",
    "try:\n",
    "    if batch_size:\n",
    "        pass\n",
    "except NameError:\n",
    "    batch_size = 64\n",
    "\n",
    "save_model_path = './image_classification'\n",
    "n_samples = 4\n",
    "top_n_predictions = 3\n",
    "\n",
    "\n",
    "def test_model():\n",
    "    \"\"\"\n",
    "    Test the saved model against the test dataset\n",
    "    \"\"\"\n",
    "\n",
    "    test_features, test_labels = pickle.load(open('preprocess_training.p', mode='rb'))\n",
    "    loaded_graph = tf.Graph()\n",
    "\n",
    "    with tf.Session(graph=loaded_graph) as sess:\n",
    "        # Load model\n",
    "        loader = tf.train.import_meta_graph(save_model_path + '.meta')\n",
    "        loader.restore(sess, save_model_path)\n",
    "\n",
    "        # Get Tensors from loaded model\n",
    "        loaded_x = loaded_graph.get_tensor_by_name('x:0')\n",
    "        loaded_y = loaded_graph.get_tensor_by_name('y:0')\n",
    "        loaded_keep_prob = loaded_graph.get_tensor_by_name('keep_prob:0')\n",
    "        loaded_logits = loaded_graph.get_tensor_by_name('logits:0')\n",
    "        loaded_acc = loaded_graph.get_tensor_by_name('accuracy:0')\n",
    "        \n",
    "        # Get accuracy in batches for memory limitations\n",
    "        test_batch_acc_total = 0\n",
    "        test_batch_count = 0\n",
    "        \n",
    "        for train_feature_batch, train_label_batch in helper.batch_features_labels(test_features, test_labels, batch_size):\n",
    "            test_batch_acc_total += sess.run(\n",
    "                loaded_acc,\n",
    "                feed_dict={loaded_x: train_feature_batch, loaded_y: train_label_batch, loaded_keep_prob: 1.0})\n",
    "            test_batch_count += 1\n",
    "\n",
    "        print('Testing Accuracy: {}\\n'.format(test_batch_acc_total/test_batch_count))\n",
    "\n",
    "        # Print Random Samples\n",
    "        random_test_features, random_test_labels = tuple(zip(*random.sample(list(zip(test_features, test_labels)), n_samples)))\n",
    "        random_test_predictions = sess.run(\n",
    "            tf.nn.top_k(tf.nn.softmax(loaded_logits), top_n_predictions),\n",
    "            feed_dict={loaded_x: random_test_features, loaded_y: random_test_labels, loaded_keep_prob: 1.0})\n",
    "        helper.display_image_predictions(random_test_features, random_test_labels, random_test_predictions)\n",
    "\n",
    "\n",
    "test_model()"
   ]
  },
  {
   "cell_type": "markdown",
   "metadata": {
    "deletable": true,
    "editable": true
   },
   "source": [
    "## Why 50-80% Accuracy?\n",
    "You might be wondering why you can't get an accuracy any higher. First things first, 50% isn't bad for a simple CNN.  Pure guessing would get you 10% accuracy. That's because there are many more techniques that can be applied to your model and we recemmond that once you are done with this project, you explore!\n",
    "\n",
    "## Submitting This Project\n",
    "When submitting this project, make sure to run all the cells before saving the notebook.  Save the notebook file as \"image_classification.ipynb\" and save it as a HTML file under \"File\" -> \"Download as\".  Include the \"helper.py\" and \"problem_unittests.py\" files in your submission."
   ]
  }
 ],
 "metadata": {
  "kernelspec": {
   "display_name": "Python 3",
   "language": "python",
   "name": "python3"
  },
  "language_info": {
   "codemirror_mode": {
    "name": "ipython",
    "version": 3
   },
   "file_extension": ".py",
   "mimetype": "text/x-python",
   "name": "python",
   "nbconvert_exporter": "python",
   "pygments_lexer": "ipython3",
   "version": "3.5.3"
  }
 },
 "nbformat": 4,
 "nbformat_minor": 0
}
